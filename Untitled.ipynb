{
 "cells": [
  {
   "cell_type": "code",
   "execution_count": 1,
   "metadata": {
    "collapsed": true
   },
   "outputs": [],
   "source": [
    "import pandas as pd\n",
    "import numpy as np\n",
    "import matplotlib.pyplot as plt\n",
    "import random"
   ]
  },
  {
   "cell_type": "code",
   "execution_count": 2,
   "metadata": {
    "collapsed": false
   },
   "outputs": [
    {
     "data": {
      "text/html": [
       "<div>\n",
       "<table border=\"1\" class=\"dataframe\">\n",
       "  <thead>\n",
       "    <tr style=\"text-align: right;\">\n",
       "      <th></th>\n",
       "      <th>user</th>\n",
       "      <th>Titanic</th>\n",
       "      <th>Matrix</th>\n",
       "      <th>WALL-E</th>\n",
       "      <th>Men in Black</th>\n",
       "      <th>A Beautiful Mind</th>\n",
       "      <th>Star Trek Nemesis</th>\n",
       "      <th>The godfather</th>\n",
       "      <th>Pirates of the Carribean: Black Pearl</th>\n",
       "      <th>Sex and the City (film)</th>\n",
       "      <th>Harry Potter and the Deathly Hallows 2</th>\n",
       "      <th>Life of Brian</th>\n",
       "      <th>Pulp Fiction</th>\n",
       "      <th>Alien</th>\n",
       "      <th>Petelinji zajtrk</th>\n",
       "      <th>Rocky</th>\n",
       "      <th>American Pie</th>\n",
       "      <th>Schindlers List</th>\n",
       "      <th>Ice Age: Dawn of the Dinosaurs</th>\n",
       "    </tr>\n",
       "  </thead>\n",
       "  <tbody>\n",
       "    <tr>\n",
       "      <th>0</th>\n",
       "      <td>deki</td>\n",
       "      <td>4</td>\n",
       "      <td>5</td>\n",
       "      <td>0</td>\n",
       "      <td>4</td>\n",
       "      <td>0</td>\n",
       "      <td>0</td>\n",
       "      <td>4</td>\n",
       "      <td>3</td>\n",
       "      <td>1</td>\n",
       "      <td>1</td>\n",
       "      <td>0</td>\n",
       "      <td>4</td>\n",
       "      <td>0</td>\n",
       "      <td>0</td>\n",
       "      <td>3</td>\n",
       "      <td>3</td>\n",
       "      <td>5</td>\n",
       "      <td>3</td>\n",
       "    </tr>\n",
       "    <tr>\n",
       "      <th>1</th>\n",
       "      <td>Janez</td>\n",
       "      <td>0</td>\n",
       "      <td>3</td>\n",
       "      <td>4</td>\n",
       "      <td>4</td>\n",
       "      <td>3</td>\n",
       "      <td>0</td>\n",
       "      <td>5</td>\n",
       "      <td>5</td>\n",
       "      <td>2</td>\n",
       "      <td>4</td>\n",
       "      <td>5</td>\n",
       "      <td>3</td>\n",
       "      <td>0</td>\n",
       "      <td>3</td>\n",
       "      <td>2</td>\n",
       "      <td>2</td>\n",
       "      <td>0</td>\n",
       "      <td>5</td>\n",
       "    </tr>\n",
       "    <tr>\n",
       "      <th>2</th>\n",
       "      <td>Slovenc</td>\n",
       "      <td>3</td>\n",
       "      <td>4</td>\n",
       "      <td>3</td>\n",
       "      <td>4</td>\n",
       "      <td>4</td>\n",
       "      <td>3</td>\n",
       "      <td>0</td>\n",
       "      <td>4</td>\n",
       "      <td>1</td>\n",
       "      <td>3</td>\n",
       "      <td>0</td>\n",
       "      <td>0</td>\n",
       "      <td>0</td>\n",
       "      <td>4</td>\n",
       "      <td>3</td>\n",
       "      <td>2</td>\n",
       "      <td>3</td>\n",
       "      <td>3</td>\n",
       "    </tr>\n",
       "  </tbody>\n",
       "</table>\n",
       "</div>"
      ],
      "text/plain": [
       "      user  Titanic Matrix WALL-E Men in Black A Beautiful Mind  \\\n",
       "0     deki        4      5      0            4                0   \n",
       "1    Janez        0      3      4            4                3   \n",
       "2  Slovenc        3      4      3            4                4   \n",
       "\n",
       "  Star Trek Nemesis The godfather Pirates of the Carribean: Black Pearl  \\\n",
       "0                 0             4                                     3   \n",
       "1                 0             5                                     5   \n",
       "2                 3             0                                     4   \n",
       "\n",
       "  Sex and the City (film) Harry Potter and the Deathly Hallows 2  \\\n",
       "0                       1                                      1   \n",
       "1                       2                                      4   \n",
       "2                       1                                      3   \n",
       "\n",
       "  Life of Brian Pulp Fiction Alien Petelinji zajtrk Rocky American Pie  \\\n",
       "0             0            4     0                0     3            3   \n",
       "1             5            3     0                3     2            2   \n",
       "2             0            0     0                4     3            2   \n",
       "\n",
       "  Schindlers List Ice Age: Dawn of the Dinosaurs  \n",
       "0               5                              3  \n",
       "1               0                              5  \n",
       "2               3                              3  "
      ]
     },
     "execution_count": 2,
     "metadata": {},
     "output_type": "execute_result"
    }
   ],
   "source": [
    "df = pd.read_csv('userData.txt').replace('?',0)\n",
    "df.head(3)"
   ]
  },
  {
   "cell_type": "code",
   "execution_count": 3,
   "metadata": {
    "collapsed": false
   },
   "outputs": [
    {
     "data": {
      "text/plain": [
       "array([[4, 5, 0, ..., 3, 5, 3],\n",
       "       [0, 3, 4, ..., 2, 0, 5],\n",
       "       [3, 4, 3, ..., 2, 3, 3],\n",
       "       ..., \n",
       "       [3, 5, 0, ..., 4, 0, 0],\n",
       "       [2, 3, 2, ..., 2, 3, 3],\n",
       "       [3, 5, 0, ..., 2, 5, 0]])"
      ]
     },
     "execution_count": 3,
     "metadata": {},
     "output_type": "execute_result"
    }
   ],
   "source": [
    "npdf = df.as_matrix(columns = df.columns[1:]).astype(int)\n",
    "npdf"
   ]
  },
  {
   "cell_type": "code",
   "execution_count": 4,
   "metadata": {
    "collapsed": false
   },
   "outputs": [],
   "source": [
    "class RandomPredictor:\n",
    "    def __init__(self, minVal, maxVal):\n",
    "        self.minv = minVal\n",
    "        self.maxv = maxVal\n",
    "        \n",
    "    def fit(self, data):\n",
    "        (n, m) = np.shape(data);\n",
    "        self.vecLen = m\n",
    "    \n",
    "    def predict(self, number):\n",
    "        return np.floor( np.random.uniform(self.minv, self.maxv+1, size=self.vecLen)).astype(int)\n",
    "        "
   ]
  },
  {
   "cell_type": "code",
   "execution_count": 5,
   "metadata": {
    "collapsed": false
   },
   "outputs": [],
   "source": [
    "class AveragePredictor:\n",
    "    def __init__(self, b):\n",
    "        self.b = b\n",
    "        \n",
    "    def fit(self, data):\n",
    "        self.avg = data.mean()\n",
    "        self.data = data\n",
    "        \n",
    "    def predict(self, number):\n",
    "        vs = self.data[number].sum()\n",
    "        (n, m) = np.shape(self.data);\n",
    "        print(vs + self.b * self.avg)\n",
    "        print(n + self.b)\n",
    "        return ((vs + self.b * self.avg)/(n + self.b))\n",
    "        "
   ]
  },
  {
   "cell_type": "code",
   "execution_count": null,
   "metadata": {
    "collapsed": true
   },
   "outputs": [],
   "source": [
    "class StandardDivPredictor:\n",
    "    def __init__(self):\n",
    "        self.b = b\n",
    "        \n",
    "    def fit(self, data):\n",
    "        self.data = data\n",
    "        \n",
    "    def predict(self, number):\n",
    "        vs = self.data[number].sum()\n",
    "        (n, m) = np.shape(self.data);\n",
    "        print(vs + self.b * self.avg)\n",
    "        print(n + self.b)\n",
    "        return ((vs + self.b * self.avg)/(n + self.b))\n",
    "        "
   ]
  },
  {
   "cell_type": "code",
   "execution_count": 7,
   "metadata": {
    "collapsed": false
   },
   "outputs": [
    {
     "name": "stdout",
     "output_type": "stream",
     "text": [
      "[4 3 1 1 5 4 5 2 4 1 1 3 3 2 4 2 3 2]\n"
     ]
    }
   ],
   "source": [
    "rp = RandomPredictor(1,5)\n",
    "rp.fit(npdf)\n",
    "print(rp.predict(0))"
   ]
  }
 ],
 "metadata": {
  "anaconda-cloud": {},
  "kernelspec": {
   "display_name": "Python [conda root]",
   "language": "python",
   "name": "conda-root-py"
  },
  "language_info": {
   "codemirror_mode": {
    "name": "ipython",
    "version": 3
   },
   "file_extension": ".py",
   "mimetype": "text/x-python",
   "name": "python",
   "nbconvert_exporter": "python",
   "pygments_lexer": "ipython3",
   "version": "3.5.2"
  }
 },
 "nbformat": 4,
 "nbformat_minor": 1
}
