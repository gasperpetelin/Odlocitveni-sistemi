{
 "cells": [
  {
   "cell_type": "code",
   "execution_count": 1,
   "metadata": {
    "collapsed": false
   },
   "outputs": [],
   "source": [
    "import pandas as pd\n",
    "import numpy as np\n",
    "import matplotlib.pyplot as plt\n",
    "import random\n",
    "\n",
    "#Predictors\n",
    "import Predictors as pred"
   ]
  },
  {
   "cell_type": "code",
   "execution_count": 2,
   "metadata": {
    "collapsed": false
   },
   "outputs": [],
   "source": [
    "class Recommender(object):                                                       \n",
    "    def __init__(self, predictor=None):                                          \n",
    "        self.predictor = predictor\n",
    "        \n",
    "    def learn(self):\n",
    "        if self.predictor is not None:\n",
    "            self.predictor.fit(self.user_ratings)\n",
    "        else:\n",
    "            raise ValueError('No predictor')\n",
    "    \n",
    "    def recommend(self, user, n=10, rec_seen=True):\n",
    "        #n - number of movies\n",
    "        #rec_seen - already seen\n",
    "        if user not in self.users:\n",
    "            raise ValueError('No user with name ' + user)\n",
    "        userid = self.users.index(user)\n",
    "        #print(self.predictor.predict(userid))\n",
    "        mitm = sorted([tuple(a) for a in zip(self.predictor.predict(userid), self.items)], reverse=True)\n",
    "        \n",
    "        if rec_seen == False:\n",
    "            watched = (self.user_ratings[userid]<1)\n",
    "            mitm = [i for (i, v) in zip(mitm, watched) if v]\n",
    "\n",
    "        return mitm[:n]\n",
    "        \n",
    "            \n",
    "    def parse_moviebase(self, file_name):\n",
    "        data = open(file_name, 'rt', encoding='utf-8')\n",
    "        self.items = []\n",
    "        self.users = []\n",
    "        self.user_ratings = []\n",
    "        mode = 'none'\n",
    "        for line in data:\n",
    "            ln = line.strip()\n",
    "            if not ln or ln[0] == '%': continue    # empty line or comment\n",
    "            if ln == '[items]':\n",
    "                # switch to parsing item data\n",
    "                mode = 'items'\n",
    "                continue\n",
    "            if  ln == '[users]':\n",
    "                # switch to parsing user/rating data\n",
    "                mode = 'users'\n",
    "                iCount = len(self.items)\n",
    "                continue\n",
    "            if mode == 'items':\n",
    "                self.items.append(ln)\n",
    "            elif mode == 'users':\n",
    "                ln = ln.split(',')\n",
    "                if len(ln) != iCount+1:    # check DB consistency\n",
    "                    print(\"User %s has invalid number of ratings (%d).\" % (ln[0], len(self.ratings[ln[0]])))\n",
    "                self.user_ratings.append([])\n",
    "                self.users.append(ln[0])\n",
    "                for v in ln[1:]:\n",
    "                    v = v.strip()\n",
    "                    if v == '?': \n",
    "                        self.user_ratings[-1].append(0)\n",
    "                    else:\n",
    "                        self.user_ratings[-1].append(float(v))\n",
    "            else:\n",
    "                print('Strange line in database:')\n",
    "                print(line)\n",
    "        self.user_ratings = np.array(self.user_ratings, dtype=np.int8)"
   ]
  },
  {
   "cell_type": "code",
   "execution_count": 3,
   "metadata": {
    "collapsed": false
   },
   "outputs": [],
   "source": [
    "predictor = pred.RandomPredictor(1, 5)\n",
    "predictor = pred.AveragePredictor(10)\n",
    "predictor = pred.ViewsPredictor()\n",
    "predictor = pred.DeviationPredictor()"
   ]
  },
  {
   "cell_type": "code",
   "execution_count": 4,
   "metadata": {
    "collapsed": false
   },
   "outputs": [
    {
     "data": {
      "text/plain": [
       "[(1.3184612971353746, 'Harry Potter and the Deathly Hallows 2'),\n",
       " (1.2307692307692308, 'Petelinji zajtrk'),\n",
       " (1.1450596061505673, 'American Pie'),\n",
       " (1.0895620944471014, 'WALL-E'),\n",
       " (1.0814574300500139, 'Rocky'),\n",
       " (1.0479767555024595, 'Pirates of the Carribean: Black Pearl'),\n",
       " (1.0290563230940146, 'Alien'),\n",
       " (0.99149158118238923, 'Ice Age: Dawn of the Dinosaurs'),\n",
       " (0.95095793159020503, 'Star Trek Nemesis'),\n",
       " (0.93755907186294896, 'The godfather')]"
      ]
     },
     "execution_count": 4,
     "metadata": {},
     "output_type": "execute_result"
    }
   ],
   "source": [
    "r = Recommender(predictor)\n",
    "r.parse_moviebase(\"moviebase2016.txt\")\n",
    "r.learn()\n",
    "r.recommend(\"GP\")"
   ]
  }
 ],
 "metadata": {
  "anaconda-cloud": {},
  "kernelspec": {
   "display_name": "Python [conda root]",
   "language": "python",
   "name": "conda-root-py"
  },
  "language_info": {
   "codemirror_mode": {
    "name": "ipython",
    "version": 3
   },
   "file_extension": ".py",
   "mimetype": "text/x-python",
   "name": "python",
   "nbconvert_exporter": "python",
   "pygments_lexer": "ipython3",
   "version": "3.5.2"
  }
 },
 "nbformat": 4,
 "nbformat_minor": 1
}
