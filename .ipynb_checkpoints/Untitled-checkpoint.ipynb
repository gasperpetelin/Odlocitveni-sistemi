{
 "cells": [
  {
   "cell_type": "code",
   "execution_count": 1,
   "metadata": {
    "collapsed": false
   },
   "outputs": [],
   "source": [
    "import pandas as pd\n",
    "import numpy as np\n",
    "import matplotlib.pyplot as plt\n",
    "import random\n",
    "\n",
    "#Predictors\n",
    "import Predictors as pred"
   ]
  },
  {
   "cell_type": "code",
   "execution_count": 82,
   "metadata": {
    "collapsed": false
   },
   "outputs": [],
   "source": [
    "class Recommender(object):                                                       \n",
    "    def __init__(self, predictor=None):                                          \n",
    "        self.predictor = predictor\n",
    "        \n",
    "    def learn(self):\n",
    "        if self.predictor is not None:\n",
    "            self.predictor.fit(self.user_ratings)\n",
    "        else:\n",
    "            raise ValueError('No predictor')\n",
    "    \n",
    "    def recommend(self, user, n=10, rec_seen=True):\n",
    "        #n - number of movies\n",
    "        #rec_seen - already seen\n",
    "        if user not in self.users:\n",
    "            raise ValueError('No user with name ' + user)\n",
    "        userid = self.users.index(user)\n",
    "        mitm = sorted([tuple(a) for a in zip(self.predictor.predict(userid), self.items)], reverse=True)\n",
    "        \n",
    "        if rec_seen == False:\n",
    "            watched = (self.user_ratings[userid]<1)\n",
    "            mitm = [i for (i, v) in zip(mitm, watched) if v]\n",
    "\n",
    "        return mitm[:n]\n",
    "        \n",
    "            \n",
    "    def parse_moviebase(self, file_name):\n",
    "        data = open(file_name, 'rt', encoding='utf-8')\n",
    "        self.items = []\n",
    "        self.users = []\n",
    "        self.user_ratings = []\n",
    "        mode = 'none'\n",
    "        for line in data:\n",
    "            ln = line.strip()\n",
    "            if not ln or ln[0] == '%': continue    # empty line or comment\n",
    "            if ln == '[items]':\n",
    "                # switch to parsing item data\n",
    "                mode = 'items'\n",
    "                continue\n",
    "            if  ln == '[users]':\n",
    "                # switch to parsing user/rating data\n",
    "                mode = 'users'\n",
    "                iCount = len(self.items)\n",
    "                continue\n",
    "            if mode == 'items':\n",
    "                self.items.append(ln)\n",
    "            elif mode == 'users':\n",
    "                ln = ln.split(',')\n",
    "                if len(ln) != iCount+1:    # check DB consistency\n",
    "                    print(\"User %s has invalid number of ratings (%d).\" % (ln[0], len(self.ratings[ln[0]])))\n",
    "                self.user_ratings.append([])\n",
    "                self.users.append(ln[0])\n",
    "                for v in ln[1:]:\n",
    "                    v = v.strip()\n",
    "                    if v == '?': \n",
    "                        self.user_ratings[-1].append(0)\n",
    "                    else:\n",
    "                        self.user_ratings[-1].append(float(v))\n",
    "            else:\n",
    "                print('Strange line in database:')\n",
    "                print(line)\n",
    "        self.user_ratings = np.array(self.user_ratings, dtype=np.int8)"
   ]
  },
  {
   "cell_type": "code",
   "execution_count": 120,
   "metadata": {
    "collapsed": false
   },
   "outputs": [],
   "source": [
    "predictor = pred.RandomPredictor(1, 5)\n",
    "predictor = pred.AveragePredictor(10)"
   ]
  },
  {
   "cell_type": "code",
   "execution_count": 121,
   "metadata": {
    "collapsed": false
   },
   "outputs": [
    {
     "name": "stdout",
     "output_type": "stream",
     "text": [
      "79.4992175274\n",
      "81\n"
     ]
    },
    {
     "ename": "TypeError",
     "evalue": "zip argument #1 must support iteration",
     "output_type": "error",
     "traceback": [
      "\u001b[0;31m---------------------------------------------------------------------------\u001b[0m",
      "\u001b[0;31mTypeError\u001b[0m                                 Traceback (most recent call last)",
      "\u001b[0;32m<ipython-input-121-b9e7f21c248a>\u001b[0m in \u001b[0;36m<module>\u001b[0;34m()\u001b[0m\n\u001b[1;32m      2\u001b[0m \u001b[0mr\u001b[0m\u001b[1;33m.\u001b[0m\u001b[0mparse_moviebase\u001b[0m\u001b[1;33m(\u001b[0m\u001b[1;34m\"moviebase2016.txt\"\u001b[0m\u001b[1;33m)\u001b[0m\u001b[1;33m\u001b[0m\u001b[0m\n\u001b[1;32m      3\u001b[0m \u001b[0mr\u001b[0m\u001b[1;33m.\u001b[0m\u001b[0mlearn\u001b[0m\u001b[1;33m(\u001b[0m\u001b[1;33m)\u001b[0m\u001b[1;33m\u001b[0m\u001b[0m\n\u001b[0;32m----> 4\u001b[0;31m \u001b[0mr\u001b[0m\u001b[1;33m.\u001b[0m\u001b[0mrecommend\u001b[0m\u001b[1;33m(\u001b[0m\u001b[1;34m\"GP\"\u001b[0m\u001b[1;33m)\u001b[0m\u001b[1;33m\u001b[0m\u001b[0m\n\u001b[0m",
      "\u001b[0;32m<ipython-input-82-098d8f7bfd42>\u001b[0m in \u001b[0;36mrecommend\u001b[0;34m(self, user, n, rec_seen)\u001b[0m\n\u001b[1;32m     15\u001b[0m             \u001b[1;32mraise\u001b[0m \u001b[0mValueError\u001b[0m\u001b[1;33m(\u001b[0m\u001b[1;34m'No user with name '\u001b[0m \u001b[1;33m+\u001b[0m \u001b[0muser\u001b[0m\u001b[1;33m)\u001b[0m\u001b[1;33m\u001b[0m\u001b[0m\n\u001b[1;32m     16\u001b[0m         \u001b[0muserid\u001b[0m \u001b[1;33m=\u001b[0m \u001b[0mself\u001b[0m\u001b[1;33m.\u001b[0m\u001b[0musers\u001b[0m\u001b[1;33m.\u001b[0m\u001b[0mindex\u001b[0m\u001b[1;33m(\u001b[0m\u001b[0muser\u001b[0m\u001b[1;33m)\u001b[0m\u001b[1;33m\u001b[0m\u001b[0m\n\u001b[0;32m---> 17\u001b[0;31m         \u001b[0mmitm\u001b[0m \u001b[1;33m=\u001b[0m \u001b[0msorted\u001b[0m\u001b[1;33m(\u001b[0m\u001b[1;33m[\u001b[0m\u001b[0mtuple\u001b[0m\u001b[1;33m(\u001b[0m\u001b[0ma\u001b[0m\u001b[1;33m)\u001b[0m \u001b[1;32mfor\u001b[0m \u001b[0ma\u001b[0m \u001b[1;32min\u001b[0m \u001b[0mzip\u001b[0m\u001b[1;33m(\u001b[0m\u001b[0mself\u001b[0m\u001b[1;33m.\u001b[0m\u001b[0mpredictor\u001b[0m\u001b[1;33m.\u001b[0m\u001b[0mpredict\u001b[0m\u001b[1;33m(\u001b[0m\u001b[0muserid\u001b[0m\u001b[1;33m)\u001b[0m\u001b[1;33m,\u001b[0m \u001b[0mself\u001b[0m\u001b[1;33m.\u001b[0m\u001b[0mitems\u001b[0m\u001b[1;33m)\u001b[0m\u001b[1;33m]\u001b[0m\u001b[1;33m,\u001b[0m \u001b[0mreverse\u001b[0m\u001b[1;33m=\u001b[0m\u001b[1;32mTrue\u001b[0m\u001b[1;33m)\u001b[0m\u001b[1;33m\u001b[0m\u001b[0m\n\u001b[0m\u001b[1;32m     18\u001b[0m \u001b[1;33m\u001b[0m\u001b[0m\n\u001b[1;32m     19\u001b[0m         \u001b[1;32mif\u001b[0m \u001b[0mrec_seen\u001b[0m \u001b[1;33m==\u001b[0m \u001b[1;32mFalse\u001b[0m\u001b[1;33m:\u001b[0m\u001b[1;33m\u001b[0m\u001b[0m\n",
      "\u001b[0;31mTypeError\u001b[0m: zip argument #1 must support iteration"
     ]
    }
   ],
   "source": [
    "r = Recommender(predictor)\n",
    "r.parse_moviebase(\"moviebase2016.txt\")\n",
    "r.learn()\n",
    "r.recommend(\"GP\")"
   ]
  },
  {
   "cell_type": "code",
   "execution_count": 14,
   "metadata": {
    "collapsed": false
   },
   "outputs": [
    {
     "data": {
      "text/plain": [
       "array([[4, 5, 0, ..., 3, 5, 3],\n",
       "       [0, 3, 4, ..., 2, 0, 5],\n",
       "       [3, 4, 3, ..., 2, 3, 3],\n",
       "       ..., \n",
       "       [3, 5, 0, ..., 4, 0, 0],\n",
       "       [2, 3, 2, ..., 2, 3, 3],\n",
       "       [3, 5, 0, ..., 2, 5, 0]], dtype=int8)"
      ]
     },
     "execution_count": 14,
     "metadata": {},
     "output_type": "execute_result"
    }
   ],
   "source": [
    "r.user_ratings#users#items "
   ]
  },
  {
   "cell_type": "code",
   "execution_count": 6,
   "metadata": {
    "collapsed": true
   },
   "outputs": [],
   "source": [
    "#class StandardDivPredictor:\n",
    "#    def __init__(self):\n",
    "#        self.b = b\n",
    "#        \n",
    "#    def fit(self, data):\n",
    "#        self.data = data\n",
    "#        \n",
    "#    def predict(self, number):\n",
    "#        vs = self.data[number].sum()\n",
    "#        (n, m) = np.shape(self.data);\n",
    "#        print(vs + self.b * self.avg)\n",
    "#        print(n + self.b)\n",
    "#        return ((vs + self.b * self.avg)/(n + self.b))\n",
    "#        "
   ]
  },
  {
   "cell_type": "code",
   "execution_count": 7,
   "metadata": {
    "collapsed": false
   },
   "outputs": [],
   "source": [
    "#rp = pred.RandomPredictor(1,5)\n",
    "#rp.fit(npdf)\n",
    "#print(rp.predict(0))"
   ]
  }
 ],
 "metadata": {
  "anaconda-cloud": {},
  "kernelspec": {
   "display_name": "Python [conda root]",
   "language": "python",
   "name": "conda-root-py"
  },
  "language_info": {
   "codemirror_mode": {
    "name": "ipython",
    "version": 3
   },
   "file_extension": ".py",
   "mimetype": "text/x-python",
   "name": "python",
   "nbconvert_exporter": "python",
   "pygments_lexer": "ipython3",
   "version": "3.5.2"
  }
 },
 "nbformat": 4,
 "nbformat_minor": 1
}
