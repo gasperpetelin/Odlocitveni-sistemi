{
 "cells": [
  {
   "cell_type": "code",
   "execution_count": 1,
   "metadata": {
    "collapsed": false
   },
   "outputs": [],
   "source": [
    "import pandas as pd\n",
    "import numpy as np\n",
    "import matplotlib.pyplot as plt\n",
    "import random\n",
    "\n",
    "#Predictors\n",
    "import Predictors as pred"
   ]
  },
  {
   "cell_type": "code",
   "execution_count": 2,
   "metadata": {
    "collapsed": false
   },
   "outputs": [],
   "source": [
    "class Recommender(object):                                                       \n",
    "    def __init__(self, predictor=None):                                          \n",
    "        self.predictor = predictor\n",
    "        \n",
    "    def learn(self):\n",
    "        if self.predictor is not None:\n",
    "            self.predictor.fit(self.user_ratings)\n",
    "        else:\n",
    "            raise ValueError('No predictor')\n",
    "    \n",
    "    def recommend(self, user, n=10, rec_seen=True):\n",
    "        #n - number of movies\n",
    "        #rec_seen - already seen\n",
    "        if user not in self.users:\n",
    "            raise ValueError('No user with name ' + user)\n",
    "        userid = self.users.index(user)\n",
    "        #print(self.predictor.predict(userid))\n",
    "        mitm = [tuple(a) for a in zip(self.predictor.predict(userid), self.items)]\n",
    "        if rec_seen == False:\n",
    "            \n",
    "            watched = (self.user_ratings[userid]<1)\n",
    "            mitm = [i for (i, v) in zip(mitm, watched) if v]\n",
    "\n",
    "        mitm = sorted(mitm, reverse=True)\n",
    "        return mitm[:n]\n",
    "        \n",
    "            \n",
    "    def parse_moviebase(self, file_name):\n",
    "        data = open(file_name, 'rt', encoding='utf-8')\n",
    "        self.items = []\n",
    "        self.users = []\n",
    "        self.user_ratings = []\n",
    "        mode = 'none'\n",
    "        for line in data:\n",
    "            ln = line.strip()\n",
    "            if not ln or ln[0] == '%': continue    # empty line or comment\n",
    "            if ln == '[items]':\n",
    "                # switch to parsing item data\n",
    "                mode = 'items'\n",
    "                continue\n",
    "            if  ln == '[users]':\n",
    "                # switch to parsing user/rating data\n",
    "                mode = 'users'\n",
    "                iCount = len(self.items)\n",
    "                continue\n",
    "            if mode == 'items':\n",
    "                self.items.append(ln)\n",
    "            elif mode == 'users':\n",
    "                ln = ln.split(',')\n",
    "                if len(ln) != iCount+1:    # check DB consistency\n",
    "                    print(\"User %s has invalid number of ratings (%d).\" % (ln[0], len(self.ratings[ln[0]])))\n",
    "                self.user_ratings.append([])\n",
    "                self.users.append(ln[0])\n",
    "                for v in ln[1:]:\n",
    "                    v = v.strip()\n",
    "                    if v == '?': \n",
    "                        self.user_ratings[-1].append(0)\n",
    "                    else:\n",
    "                        self.user_ratings[-1].append(float(v))\n",
    "            else:\n",
    "                print('Strange line in database:')\n",
    "                print(line)\n",
    "        self.user_ratings = np.array(self.user_ratings, dtype=np.int8)\n",
    "        \n",
    "    def getuser(self, username):\n",
    "        return self.users.index(username)\n",
    "    \n",
    "    def getitem(self, title):\n",
    "        return self.items.index(title)\n",
    "    \n",
    "    "
   ]
  },
  {
   "cell_type": "code",
   "execution_count": 3,
   "metadata": {
    "collapsed": false
   },
   "outputs": [],
   "source": [
    "predictor = pred.RandomPredictor(1, 5)\n",
    "predictor = pred.AveragePredictor(10)\n",
    "predictor = pred.ViewsPredictor()\n",
    "predictor = pred.DeviationPredictor()\n",
    "predictor = pred.UserBasedPredictor(0,0.2)\n",
    "predictor = pred.ItemBasedPredictor(0,0.2)"
   ]
  },
  {
   "cell_type": "code",
   "execution_count": 84,
   "metadata": {
    "collapsed": false
   },
   "outputs": [],
   "source": [
    "class SlopeOnePredictor:\n",
    "    def fit(self, data):\n",
    "        self.data = data\n",
    "\n",
    "    def predict(self, number):\n",
    "        (usersNum, moviesNum) = np.shape(self.data)\n",
    "        \n",
    "        retscores = []\n",
    "        for movieId in range(0,moviesNum):\n",
    "            scores = []\n",
    "            weight = []\n",
    "            for m in range(0,moviesNum):\n",
    "                if m!=movieId:\n",
    "                    s, w = self.dev(m, movieId)\n",
    "                    scores.append(s)\n",
    "                    weight.append(w)\n",
    "                else:\n",
    "                    scores.append(0)\n",
    "                    weight.append(0)\n",
    "\n",
    "            pred = np.sum((self.data[number] - np.array(scores)) * np.array(weight))/np.sum(np.array(weight))\n",
    "            retscores.append(pred)\n",
    "        return np.array(retscores)\n",
    "        \n",
    "        \n",
    "    def dev(self, m1, m2):\n",
    "        v1 = self.data[:, m1]\n",
    "        v2 = self.data[:, m2]\n",
    "\n",
    "        selector = (v2>0) & (v1>0)\n",
    "        v1 = v1[selector]\n",
    "        v2 = v2[selector]\n",
    "        return (np.sum(v1-v2)/len(v1), len(v1))\n",
    "\n",
    "predictor = SlopeOnePredictor()"
   ]
  },
  {
   "cell_type": "code",
   "execution_count": 85,
   "metadata": {
    "collapsed": false
   },
   "outputs": [
    {
     "data": {
      "text/plain": [
       "[(4.1337448559670777, 'Pulp Fiction'),\n",
       " (3.9881422924901186, \"Schindler's List\"),\n",
       " (3.9547038327526134, 'Life of Brian'),\n",
       " (3.9471830985915495, 'The godfather'),\n",
       " (3.919178082191781, 'Matrix'),\n",
       " (3.7435424354243541, 'A Beautiful Mind'),\n",
       " (3.4981949458483754, 'WALL-E'),\n",
       " (3.4056224899598395, 'Pirates of the Carribean: Black Pearl'),\n",
       " (3.3824701195219125, 'Alien'),\n",
       " (3.2845188284518829, 'Star Trek Nemesis'),\n",
       " (3.1755102040816325, 'Men in Black'),\n",
       " (3.117820324005891, 'Ice Age: Dawn of the Dinosaurs'),\n",
       " (2.9583333333333335, 'Titanic'),\n",
       " (2.8841059602649008, 'Rocky'),\n",
       " (2.7642276422764227, 'Harry Potter and the Deathly Hallows 2'),\n",
       " (2.6732026143790848, 'Petelinji zajtrk'),\n",
       " (2.5862552594670407, 'American Pie'),\n",
       " (1.2625, 'Sex and the City (film)')]"
      ]
     },
     "execution_count": 85,
     "metadata": {},
     "output_type": "execute_result"
    }
   ],
   "source": [
    "r = Recommender(predictor)\n",
    "r.parse_moviebase(\"moviebase2016.txt\")\n",
    "r.learn()\n",
    "r.recommend(\"GP\", 20, 1)\n",
    "#predictor.similarity(r.getitem(\"Pulp Fiction\"), r.getitem(\"The godfather\"))\n"
   ]
  },
  {
   "cell_type": "code",
   "execution_count": null,
   "metadata": {
    "collapsed": false
   },
   "outputs": [],
   "source": [
    "\n",
    "\n",
    "#tst = np.array([[1,2],[3,4],[6,7]])\n",
    "#print(tst)\n",
    "#tst[2, 1]"
   ]
  }
 ],
 "metadata": {
  "anaconda-cloud": {},
  "kernelspec": {
   "display_name": "Python [conda root]",
   "language": "python",
   "name": "conda-root-py"
  },
  "language_info": {
   "codemirror_mode": {
    "name": "ipython",
    "version": 3
   },
   "file_extension": ".py",
   "mimetype": "text/x-python",
   "name": "python",
   "nbconvert_exporter": "python",
   "pygments_lexer": "ipython3",
   "version": "3.5.2"
  }
 },
 "nbformat": 4,
 "nbformat_minor": 1
}
