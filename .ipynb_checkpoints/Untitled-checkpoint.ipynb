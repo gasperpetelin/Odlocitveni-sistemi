{
 "cells": [
  {
   "cell_type": "code",
   "execution_count": 1,
   "metadata": {
    "collapsed": false
   },
   "outputs": [],
   "source": [
    "import pandas as pd\n",
    "import numpy as np\n",
    "import matplotlib.pyplot as plt\n",
    "import random\n",
    "\n",
    "#Predictors\n",
    "import Predictors as pred"
   ]
  },
  {
   "cell_type": "code",
   "execution_count": 2,
   "metadata": {
    "collapsed": false
   },
   "outputs": [],
   "source": [
    "class Recommender(object):                                                       \n",
    "    def __init__(self, predictor=None):                                          \n",
    "        self.predictor = predictor\n",
    "        \n",
    "    def learn(self):\n",
    "        if self.predictor is not None:\n",
    "            self.predictor.fit(self.user_ratings)\n",
    "        else:\n",
    "            raise ValueError('No predictor')\n",
    "    \n",
    "    def recommend(self, user, n=10, rec_seen=True):\n",
    "        #n - number of movies\n",
    "        #rec_seen - already seen\n",
    "        if user not in self.users:\n",
    "            raise ValueError('No user with name ' + user)\n",
    "        userid = self.users.index(user)\n",
    "        #print(self.predictor.predict(userid))\n",
    "        mitm = sorted([tuple(a) for a in zip(self.predictor.predict(userid), self.items)], reverse=True)\n",
    "        \n",
    "        if rec_seen == False:\n",
    "            watched = (self.user_ratings[userid]<1)\n",
    "            mitm = [i for (i, v) in zip(mitm, watched) if v]\n",
    "\n",
    "        return mitm[:n]\n",
    "        \n",
    "            \n",
    "    def parse_moviebase(self, file_name):\n",
    "        data = open(file_name, 'rt', encoding='utf-8')\n",
    "        self.items = []\n",
    "        self.users = []\n",
    "        self.user_ratings = []\n",
    "        mode = 'none'\n",
    "        for line in data:\n",
    "            ln = line.strip()\n",
    "            if not ln or ln[0] == '%': continue    # empty line or comment\n",
    "            if ln == '[items]':\n",
    "                # switch to parsing item data\n",
    "                mode = 'items'\n",
    "                continue\n",
    "            if  ln == '[users]':\n",
    "                # switch to parsing user/rating data\n",
    "                mode = 'users'\n",
    "                iCount = len(self.items)\n",
    "                continue\n",
    "            if mode == 'items':\n",
    "                self.items.append(ln)\n",
    "            elif mode == 'users':\n",
    "                ln = ln.split(',')\n",
    "                if len(ln) != iCount+1:    # check DB consistency\n",
    "                    print(\"User %s has invalid number of ratings (%d).\" % (ln[0], len(self.ratings[ln[0]])))\n",
    "                self.user_ratings.append([])\n",
    "                self.users.append(ln[0])\n",
    "                for v in ln[1:]:\n",
    "                    v = v.strip()\n",
    "                    if v == '?': \n",
    "                        self.user_ratings[-1].append(0)\n",
    "                    else:\n",
    "                        self.user_ratings[-1].append(float(v))\n",
    "            else:\n",
    "                print('Strange line in database:')\n",
    "                print(line)\n",
    "        self.user_ratings = np.array(self.user_ratings, dtype=np.int8)\n",
    "        \n",
    "    def getuser(self, username):\n",
    "        return self.users.index(username)\n",
    "    \n",
    "    "
   ]
  },
  {
   "cell_type": "code",
   "execution_count": 3,
   "metadata": {
    "collapsed": false
   },
   "outputs": [],
   "source": [
    "predictor = pred.RandomPredictor(1, 5)\n",
    "predictor = pred.AveragePredictor(10)\n",
    "predictor = pred.ViewsPredictor()\n",
    "predictor = pred.DeviationPredictor()\n",
    "predictor = pred.UserBasedPredictor(5,0)"
   ]
  },
  {
   "cell_type": "code",
   "execution_count": 4,
   "metadata": {
    "collapsed": false
   },
   "outputs": [],
   "source": [
    "class ItemBasedPredictor:\n",
    "    def __init__(self, K=0, threshold=0):\n",
    "        self.K = K\n",
    "        self.threshold = threshold\n",
    "        \n",
    "    def fit(self, data):\n",
    "\n",
    "    def predict(self, number):\n",
    "\n",
    "    def similarity(self, u1, u2):\n"
   ]
  },
  {
   "cell_type": "code",
   "execution_count": 5,
   "metadata": {
    "collapsed": false
   },
   "outputs": [
    {
     "data": {
      "text/plain": [
       "[(4.815914320720883, \"Schindler's List\"),\n",
       " (4.7953701392485861, 'Pulp Fiction'),\n",
       " (4.6009372683409246, 'Matrix'),\n",
       " (4.5907402784971723, 'The godfather'),\n",
       " (4.0962966147177697, 'Life of Brian'),\n",
       " (3.9309263303085893, 'Alien'),\n",
       " (3.6120525193746431, 'A Beautiful Mind'),\n",
       " (3.5464493708048819, 'Men in Black'),\n",
       " (3.241164458555549, 'Star Trek Nemesis'),\n",
       " (3.1925963485277284, 'Titanic')]"
      ]
     },
     "execution_count": 5,
     "metadata": {},
     "output_type": "execute_result"
    }
   ],
   "source": [
    "r = Recommender(predictor)\n",
    "r.parse_moviebase(\"moviebase2016.txt\")\n",
    "r.learn()\n",
    "r.recommend(\"GP\")\n",
    "#predictor.similarity(r.getuser(\"saso\"), r.getuser(\"marko\"))\n",
    "\n"
   ]
  },
  {
   "cell_type": "code",
   "execution_count": 6,
   "metadata": {
    "collapsed": false
   },
   "outputs": [
    {
     "name": "stdout",
     "output_type": "stream",
     "text": [
      "[[1 2]\n",
      " [3 4]\n",
      " [6 7]]\n"
     ]
    },
    {
     "data": {
      "text/plain": [
       "7"
      ]
     },
     "execution_count": 6,
     "metadata": {},
     "output_type": "execute_result"
    }
   ],
   "source": [
    "tst = np.array([[1,2],[3,4],[6,7]])\n",
    "print(tst)\n",
    "tst[2, 1]"
   ]
  }
 ],
 "metadata": {
  "anaconda-cloud": {},
  "kernelspec": {
   "display_name": "Python [conda root]",
   "language": "python",
   "name": "conda-root-py"
  },
  "language_info": {
   "codemirror_mode": {
    "name": "ipython",
    "version": 3
   },
   "file_extension": ".py",
   "mimetype": "text/x-python",
   "name": "python",
   "nbconvert_exporter": "python",
   "pygments_lexer": "ipython3",
   "version": "3.5.2"
  }
 },
 "nbformat": 4,
 "nbformat_minor": 1
}
